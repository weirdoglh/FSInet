{
 "cells": [
  {
   "cell_type": "code",
   "execution_count": 10,
   "metadata": {},
   "outputs": [],
   "source": [
    "import numpy as np\n",
    "\n",
    "import pandas as pd\n",
    "\n",
    "import seaborn as sns\n",
    "import  matplotlib.pyplot as plt"
   ]
  },
  {
   "cell_type": "code",
   "execution_count": 11,
   "metadata": {},
   "outputs": [],
   "source": [
    "nmsn, nfsi = 400, 20\n",
    "fname = './data/test/FCount_%d_CtxRate_40.0_B_0.1_W_0.1_JFB_0.5-0001-0.gdf'%nfsi\n",
    "\n",
    "data = np.array(np.loadtxt(fname))\n",
    "idxmin, idxmax = np.min(data[:,0]), np.max(data[:,0])\n",
    "es, ts = data[:,0], data[:,1]\n",
    "\n",
    "idBins = [idxmin, idxmin+nmsn-1, idxmax]\n",
    "tmBins = np.arange(0, 6001, 500)\n",
    "rates = np.histogram2d(ts, es, bins=[tmBins, idBins])[0]\n",
    "rmsn, rfsi = rates[:,0]*2/nmsn, rates[:,1]*2/nfsi"
   ]
  },
  {
   "cell_type": "code",
   "execution_count": 12,
   "metadata": {},
   "outputs": [
    {
     "data": {
      "text/plain": [
       "[<matplotlib.lines.Line2D at 0x127d5d9c0>]"
      ]
     },
     "execution_count": 12,
     "metadata": {},
     "output_type": "execute_result"
    },
    {
     "data": {
      "image/png": "[encoded data removed]",
      "text/plain": [
       "<Figure size 432x288 with 1 Axes>"
      ]
     },
     "metadata": {
      "needs_background": "light"
     },
     "output_type": "display_data"
    }
   ],
   "source": [
    "plt.plot(rmsn)\n",
    "plt.plot(rfsi)"
   ]
  },
  {
   "cell_type": "code",
   "execution_count": null,
   "metadata": {},
   "outputs": [],
   "source": []
  }
 ],
 "metadata": {
  "kernelspec": {
   "display_name": "Python 3",
   "language": "python",
   "name": "python3"
  },
  "language_info": {
   "codemirror_mode": {
    "name": "ipython",
    "version": 3
   },
   "file_extension": ".py",
   "mimetype": "text/x-python",
   "name": "python",
   "nbconvert_exporter": "python",
   "pygments_lexer": "ipython3",
   "version": "3.10.4"
  },
  "orig_nbformat": 4
 },
 "nbformat": 4,
 "nbformat_minor": 2
}
